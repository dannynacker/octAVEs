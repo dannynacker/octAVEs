{
  "nbformat": 4,
  "nbformat_minor": 0,
  "metadata": {
    "colab": {
      "provenance": [],
      "authorship_tag": "ABX9TyM6u32x8RY+hwrywTgyvRIy",
      "include_colab_link": true
    },
    "kernelspec": {
      "name": "python3",
      "display_name": "Python 3"
    },
    "language_info": {
      "name": "python"
    }
  },
  "cells": [
    {
      "cell_type": "markdown",
      "metadata": {
        "id": "view-in-github",
        "colab_type": "text"
      },
      "source": [
        "<a href=\"https://colab.research.google.com/github/dannynacker/octAVEs/blob/main/isomod.ipynb\" target=\"_parent\"><img src=\"https://colab.research.google.com/assets/colab-badge.svg\" alt=\"Open In Colab\"/></a>"
      ]
    },
    {
      "cell_type": "code",
      "execution_count": null,
      "metadata": {
        "id": "khiWcMgDh8wc"
      },
      "outputs": [],
      "source": [
        "!pip install pydub\n",
        "\n",
        "import pandas as pd\n",
        "import numpy as np\n",
        "# Workaround for librosa’s deprecated np.complex use\n",
        "np.complex = complex\n",
        "\n",
        "import librosa\n",
        "from scipy.interpolate import interp1d\n",
        "import soundfile as sf\n",
        "from pydub import AudioSegment\n",
        "import tempfile\n",
        "import os\n",
        "\n",
        "# ─────────────────────────────────────────────────────\n",
        "#  Paths & settings\n",
        "# ─────────────────────────────────────────────────────\n",
        "csv_path       = \"/content/Ashes_grouped_FFT.csv\"  # your FFT CSV\n",
        "audio_path     = \"/content/Ashes.mp3\"             # source audio (WAV/MP3/etc)\n",
        "output_mp3     = \"/content/Ashes_mod.mp3\"         # desired MP3 filename\n",
        "\n",
        "freq_prefix    = \"Adjusted_Corr_Freq\"          # FFT frequency columns\n",
        "duty_prefix    = \"Amplitude_RX1\"               # FFT duty (%) columns\n",
        "\n",
        "# ─────────────────────────────────────────────────────\n",
        "#  Load data\n",
        "# ─────────────────────────────────────────────────────\n",
        "df = pd.read_csv(csv_path)\n",
        "y, sr = librosa.load(audio_path, sr=44100, mono=True)\n",
        "\n",
        "t_csv   = df[\"Time\"].values\n",
        "t_audio = np.arange(len(y)) / sr\n",
        "channels = [1, 2, 3, 4]\n",
        "\n",
        "# ─────────────────────────────────────────────────────\n",
        "#  Interpolate & modulate\n",
        "# ─────────────────────────────────────────────────────\n",
        "# Build interpolation functions\n",
        "freqs, duties = {}, {}\n",
        "for ch in channels:\n",
        "    freqs[ch]  = interp1d(t_csv, df[f\"{freq_prefix}_{ch}\"], kind=\"linear\", fill_value=\"extrapolate\")(t_audio)\n",
        "    duties[ch] = np.clip(interp1d(t_csv, df[f\"{duty_prefix}_{ch}\"] / 100.0,\n",
        "                         kind=\"linear\", fill_value=\"extrapolate\")(t_audio), 0, 1)\n",
        "\n",
        "# Generate 4 square‐wave envelopes and apply them\n",
        "env = np.zeros((4, len(y)))\n",
        "for ch in channels:\n",
        "    # cumulative phase\n",
        "    phase = 2 * np.pi * np.cumsum(freqs[ch]) / sr\n",
        "    # cycle position in [0,1)\n",
        "    cycle_pos = (phase / (2 * np.pi)) % 1.0\n",
        "    # envelope = 1 when within duty fraction\n",
        "    env[ch-1] = (cycle_pos < duties[ch]).astype(float)\n",
        "\n",
        "# Mix the four modulated tracks\n",
        "y_mod = sum(env_i * y for env_i in env)\n",
        "\n",
        "# Normalize to 90% of full scale\n",
        "peak = np.max(np.abs(y_mod))\n",
        "if peak > 0:\n",
        "    y_mod = y_mod / peak * 0.9\n",
        "\n",
        "# ─────────────────────────────────────────────────────\n",
        "#  Export to MP3\n",
        "# ─────────────────────────────────────────────────────\n",
        "# Write to temporary WAV, then convert to MP3\n",
        "tmpfile = tempfile.mktemp(suffix=\".wav\")\n",
        "sf.write(tmpfile, y_mod, sr)\n",
        "audio = AudioSegment.from_wav(tmpfile)\n",
        "audio.export(output_mp3, format=\"mp3\", bitrate=\"192k\")\n",
        "os.remove(tmpfile)\n",
        "\n",
        "print(f\"Modulated MP3 written to: {output_mp3}\")"
      ]
    }
  ]
}